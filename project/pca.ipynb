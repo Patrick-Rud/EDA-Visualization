{
 "cells": [
  {
   "cell_type": "code",
   "execution_count": 11,
   "metadata": {
    "collapsed": true
   },
   "outputs": [],
   "source": [
    "import matplotlib.pyplot as plt\n",
    "import pandas as pd\n",
    "import numpy as np\n",
    "from sklearn.decomposition import PCA"
   ]
  },
  {
   "cell_type": "code",
   "execution_count": 14,
   "outputs": [],
   "source": [
    "data = pd.read_csv('data/total.csv')\n",
    "X = data.drop(labels=['county','year'],axis=1).to_numpy()\n",
    "\n",
    "pca = PCA(n_components=3)\n",
    "newX = pca.fit_transform(X)\n",
    "ratio = pca.explained_variance_ratio_\n",
    "cov = pca.get_covariance()\n",
    "comp = pca.components_"
   ],
   "metadata": {
    "collapsed": false,
    "pycharm": {
     "name": "#%%\n"
    }
   }
  },
  {
   "cell_type": "code",
   "execution_count": 18,
   "outputs": [],
   "source": [
    "sing_value = pca.singular_values_\n",
    "add = pd.DataFrame(data=newX,columns=['f1','f2','f3'])\n",
    "add['IMPI'] = (add['f1']*sing_value[0]+add['f2']*sing_value[1]+add['f3']*sing_value[2])/10e14\n",
    "ret = pd.concat([add,data],axis=1)\n",
    "ret.to_csv('data/use.csv')"
   ],
   "metadata": {
    "collapsed": false,
    "pycharm": {
     "name": "#%%\n"
    }
   }
  },
  {
   "cell_type": "code",
   "execution_count": null,
   "outputs": [],
   "source": [
    "plt.plot(np.cumsum(pca.explained_variance_ratio_))\n",
    "plt.title('Scree Plot')\n",
    "plt.savefig('evr')"
   ],
   "metadata": {
    "collapsed": false,
    "pycharm": {
     "name": "#%%\n"
    }
   }
  },
  {
   "cell_type": "code",
   "execution_count": 7,
   "outputs": [
    {
     "data": {
      "text/plain": "array([3.19997589e+13, 1.71606410e+12, 7.47634909e+11, 2.57452176e+11,\n       1.38665455e+11, 8.21239431e+10, 1.53504231e+10, 1.16436327e+10,\n       3.88524223e+09, 2.79060599e+09])"
     },
     "execution_count": 7,
     "metadata": {},
     "output_type": "execute_result"
    }
   ],
   "source": [
    "var = pca.explained_variance_\n",
    "var"
   ],
   "metadata": {
    "collapsed": false,
    "pycharm": {
     "name": "#%%\n"
    }
   }
  },
  {
   "cell_type": "code",
   "execution_count": 9,
   "outputs": [
    {
     "data": {
      "text/plain": "array([[-2.04287000e-04,  1.84385966e-01,  2.85236739e-01,\n         1.97297649e-06,  9.64902225e-03, -6.92938398e-06,\n         5.14482786e-04,  1.83517415e-03,  3.01918640e-05,\n         8.96818609e-01,  1.81217442e-01, -2.83614883e-08,\n         1.48496768e-03,  1.84359122e-03,  1.37051191e-04,\n         7.63026938e-07,  1.55183101e-04,  7.46397653e-07,\n         2.59339730e-06,  9.73494695e-03,  1.31092771e-02,\n         2.13580830e-01,  2.81219695e-02,  2.72355651e-02],\n       [-9.17350258e-05,  4.84927230e-01,  7.68517551e-01,\n        -2.64095408e-06, -1.07363175e-02, -2.12353462e-05,\n        -4.08520925e-04, -7.79594418e-04,  2.14860696e-05,\n        -3.87498276e-01,  1.27998365e-01,  3.81222883e-07,\n         2.62741823e-03,  3.04015528e-03,  2.54344328e-04,\n         1.44554170e-06,  2.11904568e-04, -1.14986582e-05,\n         3.37782540e-06,  1.73347023e-02,  6.06375302e-03,\n         6.24374239e-02,  3.24071116e-02,  4.76407256e-02],\n       [ 7.60502107e-04, -3.37890091e-02,  2.69520854e-01,\n        -1.26256436e-05, -9.88828713e-02, -8.19790745e-05,\n        -6.18811896e-03, -1.65305773e-02,  7.18753916e-06,\n         1.52189042e-01, -9.23982880e-01, -1.31410725e-06,\n        -5.79254512e-03, -6.51901975e-03, -4.25266492e-04,\n        -4.59698489e-06, -3.84485949e-04,  2.88149317e-05,\n        -1.29097796e-05,  2.29603920e-03, -8.76509868e-02,\n        -1.64405585e-01, -2.86993215e-02, -6.00315675e-02]])"
     },
     "execution_count": 9,
     "metadata": {},
     "output_type": "execute_result"
    }
   ],
   "source": [
    "ret = comp[:3][:]\n",
    "ret"
   ],
   "metadata": {
    "collapsed": false,
    "pycharm": {
     "name": "#%%\n"
    }
   }
  },
  {
   "cell_type": "code",
   "execution_count": 10,
   "outputs": [],
   "source": [
    "# df = pd.DataFrame(data=ret,columns=data.columns)\n",
    "# df.to_csv('./components.csv',index=False)"
   ],
   "metadata": {
    "collapsed": false,
    "pycharm": {
     "name": "#%%\n"
    }
   }
  }
 ],
 "metadata": {
  "kernelspec": {
   "display_name": "Python 3",
   "language": "python",
   "name": "python3"
  },
  "language_info": {
   "codemirror_mode": {
    "name": "ipython",
    "version": 2
   },
   "file_extension": ".py",
   "mimetype": "text/x-python",
   "name": "python",
   "nbconvert_exporter": "python",
   "pygments_lexer": "ipython2",
   "version": "2.7.6"
  }
 },
 "nbformat": 4,
 "nbformat_minor": 0
}