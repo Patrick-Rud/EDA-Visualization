{
 "cells": [
  {
   "cell_type": "code",
   "execution_count": 13,
   "metadata": {
    "collapsed": true
   },
   "outputs": [
    {
     "data": {
      "text/plain": "         Unnamed: 0            f1            f2            f3          IMPI  \\\ncount  14365.000000  1.436500e+04  1.436500e+04  1.436500e+04  1.436500e+04   \nmean    7182.000000 -2.323606e-10  9.958312e-11 -4.979156e-11 -1.266265e-16   \nstd     4146.962644  5.656833e+06  1.309986e+06  8.646588e+05  3.841724e+00   \nmin        0.000000 -3.243524e+06 -1.276058e+07 -8.937855e+06 -2.190722e+00   \n25%     3591.000000 -2.690000e+06 -3.210198e+05 -2.657583e+05 -1.795919e+00   \n50%     7182.000000 -1.781016e+06 -9.847279e+04  1.855212e+05 -1.185977e+00   \n75%    10773.000000  2.185468e+05  2.370632e+05  4.518176e+05  1.461279e-01   \nmax    14364.000000  8.654310e+07  2.003911e+07  9.810445e+06  5.884622e+01   \n\n                  a1           a10           a11           a12           a13  \\\ncount   14365.000000  1.436500e+04  1.436500e+04  14365.000000  1.436500e+04   \nmean     4350.454786  9.567321e+05  9.528712e+05     43.086739  2.298404e+05   \nstd     10424.812141  1.292260e+06  1.932118e+06     41.496089  2.987531e+05   \nmin         0.000000  0.000000e+00  0.000000e+00      0.000000  0.000000e+00   \n25%      1282.000000  2.890580e+05  2.243310e+05     16.000000  4.380400e+04   \n50%      2064.000000  6.093120e+05  4.651810e+05     30.000000  1.346960e+05   \n75%      3383.000000  1.170103e+06  9.283450e+05     56.000000  3.013780e+05   \nmax    202298.000000  2.404690e+07  2.966345e+07    336.000000  3.393036e+06   \n\n       ...           a23           a24           a3            a4  \\\ncount  ...  14365.000000  14365.000000  14365.00000  14365.000000   \nmean   ...     16.028263   1418.678594     99.72621     49.068291   \nstd    ...     20.083435   1693.114983    174.49107     36.559953   \nmin    ...      0.000000      0.000000      0.00000      0.000000   \n25%    ...      5.000000    290.000000      0.00000     23.000000   \n50%    ...     12.000000    795.000000      3.00000     40.000000   \n75%    ...     20.000000   1966.000000    151.00000     66.000000   \nmax    ...    432.000000  20790.000000   1789.00000    246.000000   \n\n                 a5            a6            a7            a8            a9  \\\ncount  1.436500e+04  1.436500e+04  1.436500e+04  1.436500e+04  1.436500e+04   \nmean   6.212767e+04  2.246837e+05  8.340146e+05  1.077638e+05  2.493433e+05   \nstd    8.902533e+04  1.868955e+05  1.270530e+06  1.822876e+05  2.026754e+05   \nmin   -1.386800e+04 -2.544570e+05 -1.111400e+06  0.000000e+00 -1.503950e+05   \n25%    1.707500e+04  8.610800e+04  1.682140e+05  2.439300e+04  1.307530e+05   \n50%    3.827900e+04  1.759660e+05  4.423300e+05  5.201900e+04  1.992980e+05   \n75%    7.800000e+04  3.168390e+05  9.760750e+05  1.119920e+05  3.024590e+05   \nmax    5.238172e+06  1.408270e+06  1.708820e+07  3.189188e+06  3.889833e+06   \n\n               year  \ncount  14365.000000  \nmean    2014.163244  \nstd        1.904870  \nmin     2011.000000  \n25%     2013.000000  \n50%     2014.000000  \n75%     2016.000000  \nmax     2017.000000  \n\n[8 rows x 30 columns]",
      "text/html": "<div>\n<style scoped>\n    .dataframe tbody tr th:only-of-type {\n        vertical-align: middle;\n    }\n\n    .dataframe tbody tr th {\n        vertical-align: top;\n    }\n\n    .dataframe thead th {\n        text-align: right;\n    }\n</style>\n<table border=\"1\" class=\"dataframe\">\n  <thead>\n    <tr style=\"text-align: right;\">\n      <th></th>\n      <th>Unnamed: 0</th>\n      <th>f1</th>\n      <th>f2</th>\n      <th>f3</th>\n      <th>IMPI</th>\n      <th>a1</th>\n      <th>a10</th>\n      <th>a11</th>\n      <th>a12</th>\n      <th>a13</th>\n      <th>...</th>\n      <th>a23</th>\n      <th>a24</th>\n      <th>a3</th>\n      <th>a4</th>\n      <th>a5</th>\n      <th>a6</th>\n      <th>a7</th>\n      <th>a8</th>\n      <th>a9</th>\n      <th>year</th>\n    </tr>\n  </thead>\n  <tbody>\n    <tr>\n      <th>count</th>\n      <td>14365.000000</td>\n      <td>1.436500e+04</td>\n      <td>1.436500e+04</td>\n      <td>1.436500e+04</td>\n      <td>1.436500e+04</td>\n      <td>14365.000000</td>\n      <td>1.436500e+04</td>\n      <td>1.436500e+04</td>\n      <td>14365.000000</td>\n      <td>1.436500e+04</td>\n      <td>...</td>\n      <td>14365.000000</td>\n      <td>14365.000000</td>\n      <td>14365.00000</td>\n      <td>14365.000000</td>\n      <td>1.436500e+04</td>\n      <td>1.436500e+04</td>\n      <td>1.436500e+04</td>\n      <td>1.436500e+04</td>\n      <td>1.436500e+04</td>\n      <td>14365.000000</td>\n    </tr>\n    <tr>\n      <th>mean</th>\n      <td>7182.000000</td>\n      <td>-2.323606e-10</td>\n      <td>9.958312e-11</td>\n      <td>-4.979156e-11</td>\n      <td>-1.266265e-16</td>\n      <td>4350.454786</td>\n      <td>9.567321e+05</td>\n      <td>9.528712e+05</td>\n      <td>43.086739</td>\n      <td>2.298404e+05</td>\n      <td>...</td>\n      <td>16.028263</td>\n      <td>1418.678594</td>\n      <td>99.72621</td>\n      <td>49.068291</td>\n      <td>6.212767e+04</td>\n      <td>2.246837e+05</td>\n      <td>8.340146e+05</td>\n      <td>1.077638e+05</td>\n      <td>2.493433e+05</td>\n      <td>2014.163244</td>\n    </tr>\n    <tr>\n      <th>std</th>\n      <td>4146.962644</td>\n      <td>5.656833e+06</td>\n      <td>1.309986e+06</td>\n      <td>8.646588e+05</td>\n      <td>3.841724e+00</td>\n      <td>10424.812141</td>\n      <td>1.292260e+06</td>\n      <td>1.932118e+06</td>\n      <td>41.496089</td>\n      <td>2.987531e+05</td>\n      <td>...</td>\n      <td>20.083435</td>\n      <td>1693.114983</td>\n      <td>174.49107</td>\n      <td>36.559953</td>\n      <td>8.902533e+04</td>\n      <td>1.868955e+05</td>\n      <td>1.270530e+06</td>\n      <td>1.822876e+05</td>\n      <td>2.026754e+05</td>\n      <td>1.904870</td>\n    </tr>\n    <tr>\n      <th>min</th>\n      <td>0.000000</td>\n      <td>-3.243524e+06</td>\n      <td>-1.276058e+07</td>\n      <td>-8.937855e+06</td>\n      <td>-2.190722e+00</td>\n      <td>0.000000</td>\n      <td>0.000000e+00</td>\n      <td>0.000000e+00</td>\n      <td>0.000000</td>\n      <td>0.000000e+00</td>\n      <td>...</td>\n      <td>0.000000</td>\n      <td>0.000000</td>\n      <td>0.00000</td>\n      <td>0.000000</td>\n      <td>-1.386800e+04</td>\n      <td>-2.544570e+05</td>\n      <td>-1.111400e+06</td>\n      <td>0.000000e+00</td>\n      <td>-1.503950e+05</td>\n      <td>2011.000000</td>\n    </tr>\n    <tr>\n      <th>25%</th>\n      <td>3591.000000</td>\n      <td>-2.690000e+06</td>\n      <td>-3.210198e+05</td>\n      <td>-2.657583e+05</td>\n      <td>-1.795919e+00</td>\n      <td>1282.000000</td>\n      <td>2.890580e+05</td>\n      <td>2.243310e+05</td>\n      <td>16.000000</td>\n      <td>4.380400e+04</td>\n      <td>...</td>\n      <td>5.000000</td>\n      <td>290.000000</td>\n      <td>0.00000</td>\n      <td>23.000000</td>\n      <td>1.707500e+04</td>\n      <td>8.610800e+04</td>\n      <td>1.682140e+05</td>\n      <td>2.439300e+04</td>\n      <td>1.307530e+05</td>\n      <td>2013.000000</td>\n    </tr>\n    <tr>\n      <th>50%</th>\n      <td>7182.000000</td>\n      <td>-1.781016e+06</td>\n      <td>-9.847279e+04</td>\n      <td>1.855212e+05</td>\n      <td>-1.185977e+00</td>\n      <td>2064.000000</td>\n      <td>6.093120e+05</td>\n      <td>4.651810e+05</td>\n      <td>30.000000</td>\n      <td>1.346960e+05</td>\n      <td>...</td>\n      <td>12.000000</td>\n      <td>795.000000</td>\n      <td>3.00000</td>\n      <td>40.000000</td>\n      <td>3.827900e+04</td>\n      <td>1.759660e+05</td>\n      <td>4.423300e+05</td>\n      <td>5.201900e+04</td>\n      <td>1.992980e+05</td>\n      <td>2014.000000</td>\n    </tr>\n    <tr>\n      <th>75%</th>\n      <td>10773.000000</td>\n      <td>2.185468e+05</td>\n      <td>2.370632e+05</td>\n      <td>4.518176e+05</td>\n      <td>1.461279e-01</td>\n      <td>3383.000000</td>\n      <td>1.170103e+06</td>\n      <td>9.283450e+05</td>\n      <td>56.000000</td>\n      <td>3.013780e+05</td>\n      <td>...</td>\n      <td>20.000000</td>\n      <td>1966.000000</td>\n      <td>151.00000</td>\n      <td>66.000000</td>\n      <td>7.800000e+04</td>\n      <td>3.168390e+05</td>\n      <td>9.760750e+05</td>\n      <td>1.119920e+05</td>\n      <td>3.024590e+05</td>\n      <td>2016.000000</td>\n    </tr>\n    <tr>\n      <th>max</th>\n      <td>14364.000000</td>\n      <td>8.654310e+07</td>\n      <td>2.003911e+07</td>\n      <td>9.810445e+06</td>\n      <td>5.884622e+01</td>\n      <td>202298.000000</td>\n      <td>2.404690e+07</td>\n      <td>2.966345e+07</td>\n      <td>336.000000</td>\n      <td>3.393036e+06</td>\n      <td>...</td>\n      <td>432.000000</td>\n      <td>20790.000000</td>\n      <td>1789.00000</td>\n      <td>246.000000</td>\n      <td>5.238172e+06</td>\n      <td>1.408270e+06</td>\n      <td>1.708820e+07</td>\n      <td>3.189188e+06</td>\n      <td>3.889833e+06</td>\n      <td>2017.000000</td>\n    </tr>\n  </tbody>\n</table>\n<p>8 rows × 30 columns</p>\n</div>"
     },
     "execution_count": 13,
     "metadata": {},
     "output_type": "execute_result"
    }
   ],
   "source": [
    "import pandas as pd\n",
    "import plotly.express as px\n",
    "import matplotlib.pyplot as plt\n",
    "\n",
    "df = pd.read_csv('data/use.csv')\n",
    "df.describe()"
   ]
  },
  {
   "cell_type": "code",
   "execution_count": 14,
   "outputs": [
    {
     "data": {
      "text/plain": "<AxesSubplot:>"
     },
     "execution_count": 14,
     "metadata": {},
     "output_type": "execute_result"
    },
    {
     "data": {
      "text/plain": "<Figure size 432x288 with 1 Axes>",
      "image/png": "[encoded data removed]"
     },
     "metadata": {
      "needs_background": "light"
     },
     "output_type": "display_data"
    }
   ],
   "source": [
    "df['f1'].hist(bins=1000)\n",
    "# plt.savefig('./f1_dis.png')"
   ],
   "metadata": {
    "collapsed": false,
    "pycharm": {
     "name": "#%%\n"
    }
   }
  },
  {
   "cell_type": "code",
   "execution_count": 15,
   "outputs": [
    {
     "data": {
      "text/plain": "<AxesSubplot:>"
     },
     "execution_count": 15,
     "metadata": {},
     "output_type": "execute_result"
    },
    {
     "data": {
      "text/plain": "<Figure size 432x288 with 1 Axes>",
      "image/png": "[encoded data removed]"
     },
     "metadata": {
      "needs_background": "light"
     },
     "output_type": "display_data"
    }
   ],
   "source": [
    "df['f2'].hist(bins=1000)\n",
    "# plt.savefig('./f2_dis.png')"
   ],
   "metadata": {
    "collapsed": false,
    "pycharm": {
     "name": "#%%\n"
    }
   }
  },
  {
   "cell_type": "code",
   "execution_count": 16,
   "outputs": [
    {
     "data": {
      "text/plain": "<AxesSubplot:>"
     },
     "execution_count": 16,
     "metadata": {},
     "output_type": "execute_result"
    },
    {
     "data": {
      "text/plain": "<Figure size 432x288 with 1 Axes>",
      "image/png": "[encoded data removed]"
     },
     "metadata": {
      "needs_background": "light"
     },
     "output_type": "display_data"
    }
   ],
   "source": [
    "df['IMPI'].hist(bins=1000)\n",
    "# plt.savefig('./IMPI_dis.png')"
   ],
   "metadata": {
    "collapsed": false,
    "pycharm": {
     "name": "#%%\n"
    }
   }
  },
  {
   "cell_type": "code",
   "execution_count": 17,
   "outputs": [],
   "source": [
    "df.loc[df['f1']<=0,'f1_rank'] = 0\n",
    "df.loc[df['f1']>0,'f1_rank'] = 1\n",
    "df.loc[df['f1']>1e7,'f1_rank'] = 2"
   ],
   "metadata": {
    "collapsed": false,
    "pycharm": {
     "name": "#%%\n"
    }
   }
  },
  {
   "cell_type": "code",
   "execution_count": 18,
   "outputs": [
    {
     "data": {
      "text/plain": "<AxesSubplot:>"
     },
     "execution_count": 18,
     "metadata": {},
     "output_type": "execute_result"
    },
    {
     "data": {
      "text/plain": "<Figure size 432x288 with 1 Axes>",
      "image/png": "[encoded data removed]"
     },
     "metadata": {
      "needs_background": "light"
     },
     "output_type": "display_data"
    }
   ],
   "source": [
    "df['f1_rank'].hist()\n",
    "# plt.savefig('./f1_rank.png')"
   ],
   "metadata": {
    "collapsed": false,
    "pycharm": {
     "name": "#%%\n"
    }
   }
  },
  {
   "cell_type": "code",
   "execution_count": 19,
   "outputs": [],
   "source": [
    "df.loc[df['f2']<=0,'f2_rank'] = 0\n",
    "df.loc[df['f2']>0,'f2_rank'] = 1\n",
    "df.loc[df['f2']>2e6,'f2_rank'] = 2"
   ],
   "metadata": {
    "collapsed": false,
    "pycharm": {
     "name": "#%%\n"
    }
   }
  },
  {
   "cell_type": "code",
   "execution_count": 20,
   "outputs": [
    {
     "data": {
      "text/plain": "<AxesSubplot:>"
     },
     "execution_count": 20,
     "metadata": {},
     "output_type": "execute_result"
    },
    {
     "data": {
      "text/plain": "<Figure size 432x288 with 1 Axes>",
      "image/png": "[encoded data removed]"
     },
     "metadata": {
      "needs_background": "light"
     },
     "output_type": "display_data"
    }
   ],
   "source": [
    "df['f2_rank'].hist()\n",
    "# plt.savefig('./f2_rank.png')"
   ],
   "metadata": {
    "collapsed": false,
    "pycharm": {
     "name": "#%%\n"
    }
   }
  },
  {
   "cell_type": "code",
   "execution_count": 21,
   "outputs": [],
   "source": [
    "df.loc[df['IMPI']<=0,'IMPI_rank'] = 0\n",
    "df.loc[df['IMPI']>0,'IMPI_rank'] = 1\n",
    "df.loc[df['IMPI']>10,'IMPI_rank'] = 2"
   ],
   "metadata": {
    "collapsed": false,
    "pycharm": {
     "name": "#%%\n"
    }
   }
  },
  {
   "cell_type": "code",
   "execution_count": 22,
   "outputs": [
    {
     "data": {
      "text/plain": "<Figure size 432x288 with 1 Axes>",
      "image/png": "[encoded data removed]"
     },
     "metadata": {
      "needs_background": "light"
     },
     "output_type": "display_data"
    }
   ],
   "source": [
    "h3 = df['IMPI_rank'].hist()\n",
    "# plt.savefig('./IMPI_rank.png')"
   ],
   "metadata": {
    "collapsed": false,
    "pycharm": {
     "name": "#%%\n"
    }
   }
  },
  {
   "cell_type": "code",
   "execution_count": 23,
   "outputs": [],
   "source": [
    "df.to_csv('data/mapuse.csv',index=False,encoding='utf8')"
   ],
   "metadata": {
    "collapsed": false,
    "pycharm": {
     "name": "#%%\n"
    }
   }
  },
  {
   "cell_type": "code",
   "execution_count": 24,
   "outputs": [
    {
     "data": {
      "text/plain": "Unnamed: 0      int64\nf1            float64\nf2            float64\nf3            float64\nIMPI          float64\na1              int64\na10             int64\na11             int64\na12             int64\na13             int64\na14             int64\na15             int64\na16             int64\na17             int64\na18             int64\na19             int64\na2              int64\na20             int64\na21             int64\na22             int64\na23             int64\na24             int64\na3              int64\na4              int64\na5              int64\na6              int64\na7              int64\na8              int64\na9              int64\ncounty         object\nyear            int64\nf1_rank       float64\nf2_rank       float64\nIMPI_rank     float64\ndtype: object"
     },
     "execution_count": 24,
     "metadata": {},
     "output_type": "execute_result"
    }
   ],
   "source": [
    "df.dtypes"
   ],
   "metadata": {
    "collapsed": false,
    "pycharm": {
     "name": "#%%\n"
    }
   }
  }
 ],
 "metadata": {
  "kernelspec": {
   "display_name": "Python 3",
   "language": "python",
   "name": "python3"
  },
  "language_info": {
   "codemirror_mode": {
    "name": "ipython",
    "version": 2
   },
   "file_extension": ".py",
   "mimetype": "text/x-python",
   "name": "python",
   "nbconvert_exporter": "python",
   "pygments_lexer": "ipython2",
   "version": "2.7.6"
  }
 },
 "nbformat": 4,
 "nbformat_minor": 0
}